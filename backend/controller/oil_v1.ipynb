{
 "cells": [
  {
   "cell_type": "code",
   "execution_count": 1,
   "metadata": {},
   "outputs": [],
   "source": [
    "import csv\n",
    "import json"
   ]
  },
  {
   "cell_type": "code",
   "execution_count": 4,
   "metadata": {},
   "outputs": [],
   "source": [
    "\n",
    "def get_engine_oil(engine_cc, mileage):\n",
    "    with open('oil_type.csv', 'r') as file:\n",
    "        reader = csv.DictReader(file)\n",
    "        for row in reader:\n",
    "            cc_range = row['Engine CC']\n",
    "            mileage_range = row['Mileage (km)']\n",
    "            oil = row['Recommended Engine Oil']\n",
    "            brand = row['Brand Names']\n",
    "            \n",
    "            if engine_cc == int(cc_range.split('-')[0]) and mileage_range == '0-100,000':\n",
    "                return oil, brand\n",
    "            elif engine_cc == int(cc_range.split('-')[0]) and mileage_range == '100,000-200,000':\n",
    "                return oil, brand\n",
    "            elif engine_cc == int(cc_range.split('-')[0]) and mileage_range == '200,000+':\n",
    "                return oil, brand\n",
    "    \n",
    "    return None, None"
   ]
  },
  {
   "cell_type": "code",
   "execution_count": 10,
   "metadata": {},
   "outputs": [
    {
     "name": "stdout",
     "output_type": "stream",
     "text": [
      "Your Car Engine CC is  2000\n",
      "The Mileage of Your Car is  10000.0\n",
      "------------------\n",
      "Recommended Engine Oil: \n",
      "Fully synthetic oil 0W-40\n",
      "------------------\n",
      "Brand Names:  \n",
      "Mobil 1 0W-40 \n",
      "Shell Helix Ultra\n",
      "Liqui Moly Molygen MotorÃ¶l 0W-40\n",
      "Castrol Edge 0W-40\n",
      "Total Quartz 9000 Future\n"
     ]
    }
   ],
   "source": [
    "# Example usage\n",
    "engine_cc = int(input('Enter the Engine CC of Your Car '))\n",
    "mileage = float(input('Enter the Mileage of Your Car '))\n",
    "\n",
    "recommended_oil, brand_names = get_engine_oil(engine_cc, mileage)\n",
    "\n",
    "if recommended_oil and brand_names:\n",
    "    print('Your Car Engine CC is ',engine_cc)\n",
    "    print('The Mileage of Your Car is ',mileage)\n",
    "    print('------------------')\n",
    "    print(f\"Recommended Engine Oil: \\n{recommended_oil}\")\n",
    "    print('------------------')\n",
    "    print(f\"Brand Names:  \\n{brand_names}\")\n",
    "else:\n",
    "    print(\"No matching engine oil found.\")"
   ]
  },
  {
   "cell_type": "code",
   "execution_count": 11,
   "metadata": {},
   "outputs": [],
   "source": [
    "def convert_csv_to_json(file_path):\n",
    "    data = []\n",
    "    with open(file_path, 'r') as file:\n",
    "        reader = csv.DictReader(file)\n",
    "        for row in reader:\n",
    "            data.append(row)\n",
    "    \n",
    "    return json.dumps(data)"
   ]
  },
  {
   "cell_type": "code",
   "execution_count": 12,
   "metadata": {},
   "outputs": [],
   "source": [
    "\n",
    "# Specify the file path of the CSV file\n",
    "csv_file_path = 'oil_type.csv'\n",
    "\n",
    "# Convert CSV to JSON\n",
    "json_data = convert_csv_to_json(csv_file_path)\n",
    "\n",
    "# Save the JSON data to a file\n",
    "with open('oil_types.json', 'w') as json_file:\n",
    "    json_file.write(json_data)"
   ]
  },
  {
   "cell_type": "code",
   "execution_count": null,
   "metadata": {},
   "outputs": [],
   "source": []
  }
 ],
 "metadata": {
  "kernelspec": {
   "display_name": "Python 3",
   "language": "python",
   "name": "python3"
  },
  "language_info": {
   "codemirror_mode": {
    "name": "ipython",
    "version": 3
   },
   "file_extension": ".py",
   "mimetype": "text/x-python",
   "name": "python",
   "nbconvert_exporter": "python",
   "pygments_lexer": "ipython3",
   "version": "3.11.6"
  }
 },
 "nbformat": 4,
 "nbformat_minor": 2
}
